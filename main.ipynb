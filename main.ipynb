{
 "cells": [
  {
   "cell_type": "code",
   "execution_count": 1,
   "metadata": {},
   "outputs": [
    {
     "name": "stderr",
     "output_type": "stream",
     "text": [
      "Using TensorFlow backend.\n"
     ]
    },
    {
     "name": "stdout",
     "output_type": "stream",
     "text": [
      "(70000, 28, 28)\n"
     ]
    },
    {
     "data": {
      "text/plain": [
       "KMeans(algorithm='auto', copy_x=True, init='k-means++', max_iter=300,\n",
       "       n_clusters=10, n_init=10, n_jobs=None, precompute_distances='auto',\n",
       "       random_state=None, tol=0.0001, verbose=0)"
      ]
     },
     "execution_count": 1,
     "metadata": {},
     "output_type": "execute_result"
    }
   ],
   "source": [
    "#KMEANS MODEL\n",
    "import sklearn\n",
    "from sklearn.cluster import MiniBatchKMeans\n",
    "import sys\n",
    "import tensorflow as tf\n",
    "import numpy as np\n",
    "from sklearn.cluster import KMeans\n",
    "from sklearn.metrics import accuracy_score, confusion_matrix, normalized_mutual_info_score\n",
    "from keras.datasets import mnist\n",
    "(x_train, y_train),(x_test, y_test)=tf.keras.datasets.fashion_mnist.load_data()\n",
    "\n",
    "x=np.concatenate((x_train, x_test))\n",
    "y=np.concatenate((y_train, y_test))\n",
    "print(x.shape)\n",
    "x=x_train.reshape((x_train.shape[0],-1))\n",
    "x=np.divide(x.astype(float),255)\n",
    "\n",
    "kmeans = KMeans(n_clusters = 10)\n",
    "\n",
    "kmeans.fit(x)"
   ]
  },
  {
   "cell_type": "code",
   "execution_count": 2,
   "metadata": {},
   "outputs": [],
   "source": [
    "def get_labels(kmeans, actual_labels):\n",
    "  \n",
    "    inferred_labels = {}\n",
    "\n",
    "    for i in range(kmeans.n_clusters):\n",
    "\n",
    "        labels = []\n",
    "        index = np.where(kmeans.labels_ == i)\n",
    "        labels.append(actual_labels[index])\n",
    "\n",
    "        if len(labels[0]) == 1:\n",
    "            counts = np.bincount(labels[0])\n",
    "        else:\n",
    "            counts = np.bincount(np.squeeze(labels))\n",
    "\n",
    "        if np.argmax(counts) in inferred_labels:\n",
    "\n",
    "            inferred_labels[np.argmax(counts)].append(i)\n",
    "        else:\n",
    "\n",
    "            inferred_labels[np.argmax(counts)] = [i]\n",
    "\n",
    "    return inferred_labels "
   ]
  },
  {
   "cell_type": "code",
   "execution_count": 3,
   "metadata": {},
   "outputs": [],
   "source": [
    "\n",
    "def get_data_labels(X_labels, cluster_labels):\n",
    "\n",
    "    predicted_labels = np.zeros(len(X_labels)).astype(np.uint8)\n",
    "    \n",
    "    for i, cluster in enumerate(X_labels):\n",
    "        for key, value in cluster_labels.items():\n",
    "            if cluster in value:\n",
    "                predicted_labels[i] = key\n",
    "                \n",
    "    return predicted_labels"
   ]
  },
  {
   "cell_type": "code",
   "execution_count": 4,
   "metadata": {},
   "outputs": [
    {
     "name": "stdout",
     "output_type": "stream",
     "text": [
      "Number of Clusters: 10\n",
      "Inertia: 2005088.25228906\n",
      "Homogeneity: 0.491716872436907\n",
      "Baseline KMeans Accuracy: 0.5116166666666667\n",
      "\n"
     ]
    }
   ],
   "source": [
    "\n",
    "n_clusters=10\n",
    "cluster_labels = get_labels(kmeans, y_train)\n",
    "X_clusters = kmeans.predict(x)\n",
    "predicted_labels = get_data_labels(X_clusters, cluster_labels)\n",
    "\n",
    "from sklearn import metrics\n",
    "\n",
    "def calculate_metrics(estimator, data, labels):\n",
    "\n",
    "    print('Number of Clusters: {}'.format(estimator.n_clusters))\n",
    "    print('Inertia: {}'.format(estimator.inertia_))\n",
    "    print('Homogeneity: {}'.format(metrics.homogeneity_score(labels, estimator.labels_)))\n",
    "    \n",
    "clusters = [10]\n",
    "\n",
    "for n_clusters in clusters:\n",
    "    estimator = MiniBatchKMeans(n_clusters = n_clusters)\n",
    "    estimator.fit(x)\n",
    "    \n",
    "    calculate_metrics(estimator, x, y_train)\n",
    "    \n",
    "\n",
    "    cluster_labels = get_labels(estimator, y_train)\n",
    "    predicted_Y = get_data_labels(estimator.labels_, cluster_labels)\n",
    "\n",
    "    print('Baseline KMeans Accuracy: {}\\n'.format(metrics.accuracy_score(y_train, predicted_Y)))\n",
    "    "
   ]
  },
  {
   "cell_type": "code",
   "execution_count": 5,
   "metadata": {},
   "outputs": [
    {
     "data": {
      "text/plain": [
       "(12000, 28, 28, 1)"
      ]
     },
     "execution_count": 5,
     "metadata": {},
     "output_type": "execute_result"
    }
   ],
   "source": [
    "from sklearn.model_selection import train_test_split\n",
    "x_train=x_train.reshape(-1,28,28,1)/255\n",
    "x_test=x_test.reshape(-1,28,28,1)/255\n",
    "\n",
    "x_train, x_validate, y_train, y_validate = train_test_split(x_train, y_train, test_size=0.2, stratify=y_train, random_state=123)\n",
    "x_validate.shape"
   ]
  },
  {
   "cell_type": "code",
   "execution_count": 6,
   "metadata": {
    "scrolled": true
   },
   "outputs": [
    {
     "name": "stdout",
     "output_type": "stream",
     "text": [
      "Model: \"sequential_1\"\n",
      "_________________________________________________________________\n",
      "Layer (type)                 Output Shape              Param #   \n",
      "=================================================================\n",
      "conv2d_1 (Conv2D)            (None, 28, 28, 14)        140       \n",
      "_________________________________________________________________\n",
      "max_pooling2d_1 (MaxPooling2 (None, 14, 14, 14)        0         \n",
      "_________________________________________________________________\n",
      "dropout_1 (Dropout)          (None, 14, 14, 14)        0         \n",
      "_________________________________________________________________\n",
      "conv2d_2 (Conv2D)            (None, 14, 14, 7)         889       \n",
      "_________________________________________________________________\n",
      "max_pooling2d_2 (MaxPooling2 (None, 7, 7, 7)           0         \n",
      "_________________________________________________________________\n",
      "dropout_2 (Dropout)          (None, 7, 7, 7)           0         \n",
      "_________________________________________________________________\n",
      "conv2d_3 (Conv2D)            (None, 7, 7, 7)           448       \n",
      "_________________________________________________________________\n",
      "up_sampling2d_1 (UpSampling2 (None, 14, 14, 7)         0         \n",
      "_________________________________________________________________\n",
      "dropout_3 (Dropout)          (None, 14, 14, 7)         0         \n",
      "_________________________________________________________________\n",
      "conv2d_4 (Conv2D)            (None, 14, 14, 14)        896       \n",
      "_________________________________________________________________\n",
      "up_sampling2d_2 (UpSampling2 (None, 28, 28, 14)        0         \n",
      "_________________________________________________________________\n",
      "dropout_4 (Dropout)          (None, 28, 28, 14)        0         \n",
      "_________________________________________________________________\n",
      "conv2d_5 (Conv2D)            (None, 28, 28, 1)         127       \n",
      "=================================================================\n",
      "Total params: 2,500\n",
      "Trainable params: 2,500\n",
      "Non-trainable params: 0\n",
      "_________________________________________________________________\n",
      "Train on 48000 samples, validate on 12000 samples\n",
      "Epoch 1/30\n",
      "48000/48000 [==============================] - 61s 1ms/step - loss: 0.0525 - val_loss: 0.0385\n",
      "Epoch 2/30\n",
      "48000/48000 [==============================] - 62s 1ms/step - loss: 0.0308 - val_loss: 0.0287\n",
      "Epoch 3/30\n",
      "48000/48000 [==============================] - 64s 1ms/step - loss: 0.0265 - val_loss: 0.0237\n",
      "Epoch 4/30\n",
      "48000/48000 [==============================] - 62s 1ms/step - loss: 0.0247 - val_loss: 0.0226\n",
      "Epoch 5/30\n",
      "48000/48000 [==============================] - 66s 1ms/step - loss: 0.0237 - val_loss: 0.0202\n",
      "Epoch 6/30\n",
      "48000/48000 [==============================] - 61s 1ms/step - loss: 0.0230 - val_loss: 0.0201\n",
      "Epoch 7/30\n",
      "48000/48000 [==============================] - 66s 1ms/step - loss: 0.0225 - val_loss: 0.0197\n",
      "Epoch 8/30\n",
      "48000/48000 [==============================] - 64s 1ms/step - loss: 0.0218 - val_loss: 0.0186\n",
      "Epoch 9/30\n",
      "48000/48000 [==============================] - 61s 1ms/step - loss: 0.0212 - val_loss: 0.0177\n",
      "Epoch 10/30\n",
      "48000/48000 [==============================] - 61s 1ms/step - loss: 0.0208 - val_loss: 0.0172\n",
      "Epoch 11/30\n",
      "48000/48000 [==============================] - 61s 1ms/step - loss: 0.0205 - val_loss: 0.0172\n",
      "Epoch 12/30\n",
      "48000/48000 [==============================] - 61s 1ms/step - loss: 0.0203 - val_loss: 0.0176\n",
      "Epoch 13/30\n",
      "48000/48000 [==============================] - 62s 1ms/step - loss: 0.0201 - val_loss: 0.0168\n",
      "Epoch 14/30\n",
      "48000/48000 [==============================] - 62s 1ms/step - loss: 0.0199 - val_loss: 0.0170\n",
      "Epoch 15/30\n",
      "48000/48000 [==============================] - 65s 1ms/step - loss: 0.0197 - val_loss: 0.0164\n",
      "Epoch 16/30\n",
      "48000/48000 [==============================] - 60s 1ms/step - loss: 0.0196 - val_loss: 0.0171\n",
      "Epoch 17/30\n",
      "48000/48000 [==============================] - 61s 1ms/step - loss: 0.0195 - val_loss: 0.0164\n",
      "Epoch 18/30\n",
      "48000/48000 [==============================] - 60s 1ms/step - loss: 0.0194 - val_loss: 0.0168\n",
      "Epoch 19/30\n",
      "48000/48000 [==============================] - 61s 1ms/step - loss: 0.0193 - val_loss: 0.0164\n",
      "Epoch 20/30\n",
      "48000/48000 [==============================] - 60s 1ms/step - loss: 0.0192 - val_loss: 0.0163\n",
      "Epoch 21/30\n",
      "48000/48000 [==============================] - 61s 1ms/step - loss: 0.0191 - val_loss: 0.0159\n",
      "Epoch 22/30\n",
      "48000/48000 [==============================] - 60s 1ms/step - loss: 0.0190 - val_loss: 0.0164\n",
      "Epoch 23/30\n",
      "48000/48000 [==============================] - 60s 1ms/step - loss: 0.0189 - val_loss: 0.0158\n",
      "Epoch 24/30\n",
      "48000/48000 [==============================] - 61s 1ms/step - loss: 0.0189 - val_loss: 0.0168\n",
      "Epoch 25/30\n",
      "48000/48000 [==============================] - 61s 1ms/step - loss: 0.0188 - val_loss: 0.0163\n",
      "Epoch 26/30\n",
      "48000/48000 [==============================] - 61s 1ms/step - loss: 0.0187 - val_loss: 0.0164\n",
      "Epoch 27/30\n",
      "48000/48000 [==============================] - 60s 1ms/step - loss: 0.0187 - val_loss: 0.0161\n",
      "Epoch 28/30\n",
      "48000/48000 [==============================] - 61s 1ms/step - loss: 0.0186 - val_loss: 0.0167\n",
      "Epoch 29/30\n",
      "48000/48000 [==============================] - 61s 1ms/step - loss: 0.0186 - val_loss: 0.0165\n",
      "Epoch 30/30\n",
      "48000/48000 [==============================] - 60s 1ms/step - loss: 0.0185 - val_loss: 0.0166\n",
      "[[388  30   1   6 458  28  85   0   3   1]\n",
      " [200   5 728   0   5  11  51   0   0   0]\n",
      " [342 406   0   0   5 232   9   0   6   0]\n",
      " [357  11   2   0  16  18 595   0   1   0]\n",
      " [153 485   0   0   0 257 100   0   5   0]\n",
      " [ 11   0   0 831   0   1   0  52   2 103]\n",
      " [444 210   0   8  83 161  80   0  14   0]\n",
      " [  0   0   0 301   0   0   0  34   0 665]\n",
      " [140  27   1 127   0 243  16   1 419  26]\n",
      " [ 10   1   0 125   0   2   3 751   0 108]]\n",
      "Number of Clusters: 10\n",
      "Inertia: 18891.106614762717\n",
      "Homogeneity: 0.5073767039734045\n",
      "Accuracy: 0.5624\n",
      "\n"
     ]
    }
   ],
   "source": [
    "# Build the autoencoder\n",
    "import numpy as np\n",
    "import os\n",
    "import matplotlib.pyplot as plt\n",
    "from sklearn.model_selection import train_test_split\n",
    "from sklearn.metrics import classification_report\n",
    "import keras\n",
    "from keras.models import Sequential\n",
    "from keras.layers import Dense, Dropout, Conv2D, MaxPool2D, UpSampling2D, Activation\n",
    "from keras import backend as K\n",
    "from sklearn.cluster import KMeans\n",
    "from sklearn.metrics import confusion_matrix\n",
    "import seaborn as sns\n",
    "\n",
    "\n",
    "model = Sequential()\n",
    "model.add(Conv2D(14, kernel_size=3, padding='same', activation='relu', input_shape=(28,28,1)))\n",
    "model.add(MaxPool2D((2,2), padding='same'))\n",
    "model.add(Dropout(0.2))\n",
    "model.add(Conv2D(7, kernel_size=3, padding='same', activation='relu'))\n",
    "model.add(MaxPool2D((2,2), padding='same'))\n",
    "model.add(Dropout(0.2))\n",
    "model.add(Conv2D(7, kernel_size=3, padding='same', activation='relu'))\n",
    "model.add(UpSampling2D((2,2)))\n",
    "model.add(Dropout(0.2))\n",
    "model.add(Conv2D(14, kernel_size=3, padding='same', activation='relu'))\n",
    "model.add(UpSampling2D((2,2)))\n",
    "model.add(Dropout(0.2))\n",
    "model.add(Conv2D(1, kernel_size=3, padding='same', activation='relu'))\n",
    "\n",
    "model.compile(optimizer='adam', loss=\"mse\")\n",
    "model.summary()\n",
    "\n",
    "\n",
    "history_1=model.fit(x_train, x_train, epochs=30, batch_size=256, validation_data=(x_validate, x_validate), verbose=1)\n",
    "\n",
    "\n",
    "encoder = K.function([model.layers[0].input], [model.layers[4].output])\n",
    "\n",
    "encoded_images = encoder([x_test])[0].reshape(-1,7*7*7)\n",
    "encoded_images.shape\n",
    "\n",
    "\n",
    "kmeans_afterencoder = KMeans(n_clusters=10)\n",
    "clustered_training_set = kmeans_afterencoder.fit_predict(encoded_images)\n",
    "\n",
    "\n",
    "cmKMeans = confusion_matrix(y_test, clustered_training_set)\n",
    "print(cmKMeans)\n",
    "\n",
    "sns.heatmap(cmKMeans,annot=True,fmt=\"d\")\n",
    "\n",
    "cluster_labels = get_labels(kmeans_afterencoder, y_test)\n",
    "predicted_labels1 = get_data_labels(clustered_training_set, cluster_labels)\n",
    "\n",
    "\n",
    "estimator1 = KMeans(n_clusters=10)\n",
    "estimator1.fit(encoded_images)\n",
    "\n",
    "\n",
    "calculate_metrics(estimator1, encoded_images, y_test)\n",
    "\n",
    "\n",
    "cluster_labels_AE = get_labels(estimator1, y_test)\n",
    "predicted_Y_AE = get_data_labels(estimator1.labels_, cluster_labels_AE)\n",
    "\n",
    "\n",
    "print('Accuracy: {}\\n'.format(metrics.accuracy_score(y_test, predicted_Y_AE)))\n",
    "\n"
   ]
  },
  {
   "cell_type": "code",
   "execution_count": 9,
   "metadata": {},
   "outputs": [
    {
     "data": {
      "image/png": "[encoded data removed]",
      "text/plain": [
       "<Figure size 432x288 with 1 Axes>"
      ]
     },
     "metadata": {
      "needs_background": "light"
     },
     "output_type": "display_data"
    }
   ],
   "source": [
    "        def lossPlot():\n",
    "            trainingLoss,=plt.plot(history_1.history['loss'],\"r--\")\n",
    "            validationLoss,=plt.plot(history_1.history['val_loss'],\"b--\")\n",
    "            q=plt.legend([trainingLoss,validationLoss],[\"Training Loss\",\"Validation Loss\"])\n",
    "            plt.xlabel(\"Epoch\")\n",
    "            plt.ylabel(\"Loss\")\n",
    "            plt.title(\"Training Loss and Validation Loss vs Number of Epochs Graph\")\n",
    "            plt.show()\n",
    "        lossPlot()"
   ]
  },
  {
   "cell_type": "code",
   "execution_count": 8,
   "metadata": {},
   "outputs": [
    {
     "name": "stdout",
     "output_type": "stream",
     "text": [
      "GMM Accuracy: 0.54\n",
      "\n",
      "[[  0 217 662  42  24   0   1   6  44   4]\n",
      " [  0  22  43 922   9   0   0   0   4   0]\n",
      " [  0 310  38   3  90   0   0   1 552   6]\n",
      " [  0  91 404 476  16   0   0   1  11   1]\n",
      " [  0 120 151  15  78   0   0   0 631   5]\n",
      " [ 27   9   0   0   0  52 515 396   0   1]\n",
      " [  0 321 243  21  78   0   0   9 314  14]\n",
      " [  1   0   0   0   0 156 838   5   0   0]\n",
      " [  0 118  17   1 260   3  19 121  26 435]\n",
      " [361   6   1   0   2 574  27  29   0   0]]\n"
     ]
    },
    {
     "data": {
      "text/plain": [
       "<matplotlib.axes._subplots.AxesSubplot at 0x22d0b0eec08>"
      ]
     },
     "execution_count": 8,
     "metadata": {},
     "output_type": "execute_result"
    },
    {
     "data": {
      "image/png": "[encoded data removed]",
      "text/plain": [
       "<Figure size 432x288 with 2 Axes>"
      ]
     },
     "metadata": {
      "needs_background": "light"
     },
     "output_type": "display_data"
    }
   ],
   "source": [
    "    #Guassian mixture model\n",
    "    from sklearn.mixture import GaussianMixture\n",
    "    import seaborn as sns\n",
    "\n",
    "    gmm = GaussianMixture(n_components=10)\n",
    "    gmm.fit(encoded_images)\n",
    "\n",
    "    labelsGMM=gmm.fit_predict(encoded_images)\n",
    "\n",
    "    def get_labels_GMM(gmm, actual_labels):\n",
    "\n",
    "        inferred_labels = {}\n",
    "\n",
    "        for i in range(gmm.n_components):\n",
    "            labels = []\n",
    "            index = np.where(labelsGMM == i)\n",
    "\n",
    "\n",
    "            labels.append(actual_labels[index])\n",
    "\n",
    "            if len(labels[0]) == 1:\n",
    "                counts = np.bincount(labels[0])\n",
    "            else:\n",
    "                counts = np.bincount(np.squeeze(labels))\n",
    "\n",
    "\n",
    "            if np.argmax(counts) in inferred_labels:\n",
    "\n",
    "                inferred_labels[np.argmax(counts)].append(i)\n",
    "            else:\n",
    "\n",
    "                inferred_labels[np.argmax(counts)] = [i]\n",
    "\n",
    "        return inferred_labels  \n",
    "\n",
    "    def get_data_labels_GMM(X_labels, cluster_labels):\n",
    "\n",
    "        predicted_labels = np.zeros(len(X_labels)).astype(np.uint8)\n",
    "\n",
    "        for i, cluster in enumerate(X_labels):\n",
    "            for key, value in cluster_labels.items():\n",
    "                if cluster in value:\n",
    "                    predicted_labels[i] = key\n",
    "\n",
    "        return predicted_labels\n",
    "    cluster_labels_GMM = get_labels_GMM(gmm, y_test)\n",
    "    predicted_Y_GMM = get_data_labels_GMM(labelsGMM, cluster_labels_GMM)\n",
    "\n",
    "    print('GMM Accuracy: {}\\n'.format(metrics.accuracy_score(y_test, predicted_Y_GMM)))\n",
    "    cmGMM = confusion_matrix(y_test, labelsGMM)\n",
    "    print(cmGMM)\n",
    "\n",
    "    sns.heatmap(cmGMM,annot=True,fmt=\"d\")"
   ]
  },
  {
   "cell_type": "code",
   "execution_count": null,
   "metadata": {},
   "outputs": [],
   "source": []
  },
  {
   "cell_type": "code",
   "execution_count": null,
   "metadata": {},
   "outputs": [],
   "source": []
  },
  {
   "cell_type": "code",
   "execution_count": null,
   "metadata": {},
   "outputs": [],
   "source": []
  },
  {
   "cell_type": "code",
   "execution_count": null,
   "metadata": {},
   "outputs": [],
   "source": []
  },
  {
   "cell_type": "code",
   "execution_count": null,
   "metadata": {},
   "outputs": [],
   "source": []
  }
 ],
 "metadata": {
  "kernelspec": {
   "display_name": "Python 3",
   "language": "python",
   "name": "python3"
  },
  "language_info": {
   "codemirror_mode": {
    "name": "ipython",
    "version": 3
   },
   "file_extension": ".py",
   "mimetype": "text/x-python",
   "name": "python",
   "nbconvert_exporter": "python",
   "pygments_lexer": "ipython3",
   "version": "3.7.4"
  }
 },
 "nbformat": 4,
 "nbformat_minor": 2
}
